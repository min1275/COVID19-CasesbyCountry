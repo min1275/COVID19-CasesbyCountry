{
 "cells": [
  {
   "cell_type": "markdown",
   "id": "25733c42",
   "metadata": {},
   "source": [
    "## 1. 라이브러리 임포트"
   ]
  },
  {
   "cell_type": "code",
   "execution_count": 1,
   "id": "13080294",
   "metadata": {},
   "outputs": [],
   "source": [
    "# 라이브러리 임포트\n",
    "import pandas as pd   # 판다스\n",
    "import altair as alt  # 알테어"
   ]
  },
  {
   "cell_type": "markdown",
   "id": "e5fdf478",
   "metadata": {},
   "source": [
    "## 2. 데이터 적재"
   ]
  },
  {
   "cell_type": "code",
   "execution_count": 2,
   "id": "cf26b243",
   "metadata": {},
   "outputs": [
    {
     "data": {
      "text/html": [
       "<div>\n",
       "<style scoped>\n",
       "    .dataframe tbody tr th:only-of-type {\n",
       "        vertical-align: middle;\n",
       "    }\n",
       "\n",
       "    .dataframe tbody tr th {\n",
       "        vertical-align: top;\n",
       "    }\n",
       "\n",
       "    .dataframe thead th {\n",
       "        text-align: right;\n",
       "    }\n",
       "</style>\n",
       "<table border=\"1\" class=\"dataframe\">\n",
       "  <thead>\n",
       "    <tr style=\"text-align: right;\">\n",
       "      <th></th>\n",
       "      <th>no</th>\n",
       "      <th>id</th>\n",
       "      <th>자치구</th>\n",
       "      <th>CCTV_규모_2015</th>\n",
       "      <th>CCTV_규모_2020</th>\n",
       "      <th>인구_규모_2015</th>\n",
       "      <th>인구_규모_2020</th>\n",
       "    </tr>\n",
       "  </thead>\n",
       "  <tbody>\n",
       "    <tr>\n",
       "      <th>1</th>\n",
       "      <td>11</td>\n",
       "      <td>2</td>\n",
       "      <td>중구</td>\n",
       "      <td>654</td>\n",
       "      <td>2001</td>\n",
       "      <td>134329</td>\n",
       "      <td>134635</td>\n",
       "    </tr>\n",
       "    <tr>\n",
       "      <th>2</th>\n",
       "      <td>24</td>\n",
       "      <td>3</td>\n",
       "      <td>용산구</td>\n",
       "      <td>685</td>\n",
       "      <td>2383</td>\n",
       "      <td>247909</td>\n",
       "      <td>244645</td>\n",
       "    </tr>\n",
       "    <tr>\n",
       "      <th>23</th>\n",
       "      <td>19</td>\n",
       "      <td>24</td>\n",
       "      <td>송파구</td>\n",
       "      <td>520</td>\n",
       "      <td>2743</td>\n",
       "      <td>667480</td>\n",
       "      <td>673926</td>\n",
       "    </tr>\n",
       "    <tr>\n",
       "      <th>20</th>\n",
       "      <td>15</td>\n",
       "      <td>21</td>\n",
       "      <td>관악구</td>\n",
       "      <td>2004</td>\n",
       "      <td>4909</td>\n",
       "      <td>529031</td>\n",
       "      <td>509803</td>\n",
       "    </tr>\n",
       "    <tr>\n",
       "      <th>14</th>\n",
       "      <td>22</td>\n",
       "      <td>15</td>\n",
       "      <td>양천구</td>\n",
       "      <td>2241</td>\n",
       "      <td>3307</td>\n",
       "      <td>489010</td>\n",
       "      <td>457781</td>\n",
       "    </tr>\n",
       "  </tbody>\n",
       "</table>\n",
       "</div>"
      ],
      "text/plain": [
       "    no  id  자치구  CCTV_규모_2015  CCTV_규모_2020  인구_규모_2015  인구_규모_2020\n",
       "1   11   2   중구           654          2001      134329      134635\n",
       "2   24   3  용산구           685          2383      247909      244645\n",
       "23  19  24  송파구           520          2743      667480      673926\n",
       "20  15  21  관악구          2004          4909      529031      509803\n",
       "14  22  15  양천구          2241          3307      489010      457781"
      ]
     },
     "execution_count": 2,
     "metadata": {},
     "output_type": "execute_result"
    }
   ],
   "source": [
    "# cctv 및 인구 데이터 적재 및 확인\n",
    "df = pd.read_csv('https://raw.githubusercontent.com/logistex/vd21/main/cctv_with_pop.csv')\n",
    "df.sample(5)"
   ]
  },
  {
   "cell_type": "code",
   "execution_count": 3,
   "id": "a8b8c964",
   "metadata": {},
   "outputs": [
    {
     "data": {
      "text/html": [
       "<div>\n",
       "<style scoped>\n",
       "    .dataframe tbody tr th:only-of-type {\n",
       "        vertical-align: middle;\n",
       "    }\n",
       "\n",
       "    .dataframe tbody tr th {\n",
       "        vertical-align: top;\n",
       "    }\n",
       "\n",
       "    .dataframe thead th {\n",
       "        text-align: right;\n",
       "    }\n",
       "</style>\n",
       "<table border=\"1\" class=\"dataframe\">\n",
       "  <thead>\n",
       "    <tr style=\"text-align: right;\">\n",
       "      <th></th>\n",
       "      <th>자치구</th>\n",
       "      <th>자치구청</th>\n",
       "      <th>위도</th>\n",
       "      <th>경도</th>\n",
       "      <th>주소</th>\n",
       "    </tr>\n",
       "  </thead>\n",
       "  <tbody>\n",
       "    <tr>\n",
       "      <th>19</th>\n",
       "      <td>동작구</td>\n",
       "      <td>동작구청</td>\n",
       "      <td>37.512430</td>\n",
       "      <td>126.939800</td>\n",
       "      <td>대한민국 서울특별시 동작구 노량진2동 장승배기로 161</td>\n",
       "    </tr>\n",
       "    <tr>\n",
       "      <th>10</th>\n",
       "      <td>노원구</td>\n",
       "      <td>노원구청</td>\n",
       "      <td>37.654047</td>\n",
       "      <td>127.056337</td>\n",
       "      <td>대한민국 서울특별시 노원구 상계6.7동 노해로 437</td>\n",
       "    </tr>\n",
       "    <tr>\n",
       "      <th>12</th>\n",
       "      <td>서대문구</td>\n",
       "      <td>서대문구청</td>\n",
       "      <td>37.579173</td>\n",
       "      <td>126.936781</td>\n",
       "      <td>대한민국 서울특별시 서대문구 연희동 연희로 248</td>\n",
       "    </tr>\n",
       "    <tr>\n",
       "      <th>16</th>\n",
       "      <td>구로구</td>\n",
       "      <td>구로구청</td>\n",
       "      <td>37.495470</td>\n",
       "      <td>126.887639</td>\n",
       "      <td>대한민국 서울특별시 구로구 구로동 가마산로 245</td>\n",
       "    </tr>\n",
       "    <tr>\n",
       "      <th>4</th>\n",
       "      <td>광진구</td>\n",
       "      <td>광진구청</td>\n",
       "      <td>37.538533</td>\n",
       "      <td>127.082377</td>\n",
       "      <td>대한민국 서울특별시 광진구 자양1동 자양로 117</td>\n",
       "    </tr>\n",
       "  </tbody>\n",
       "</table>\n",
       "</div>"
      ],
      "text/plain": [
       "     자치구   자치구청         위도          경도                              주소\n",
       "19   동작구   동작구청  37.512430  126.939800  대한민국 서울특별시 동작구 노량진2동 장승배기로 161\n",
       "10   노원구   노원구청  37.654047  127.056337   대한민국 서울특별시 노원구 상계6.7동 노해로 437\n",
       "12  서대문구  서대문구청  37.579173  126.936781     대한민국 서울특별시 서대문구 연희동 연희로 248\n",
       "16   구로구   구로구청  37.495470  126.887639     대한민국 서울특별시 구로구 구로동 가마산로 245\n",
       "4    광진구   광진구청  37.538533  127.082377     대한민국 서울특별시 광진구 자양1동 자양로 117"
      ]
     },
     "execution_count": 3,
     "metadata": {},
     "output_type": "execute_result"
    }
   ],
   "source": [
    "# 지도 시각화를 위한 자치구 위치 데이터 적재 및 확인\n",
    "offices = pd.read_csv('https://raw.githubusercontent.com/logistex/vd21/main/offices.csv')\n",
    "offices.sample(5)"
   ]
  },
  {
   "cell_type": "code",
   "execution_count": 4,
   "id": "fb156d72",
   "metadata": {},
   "outputs": [
    {
     "data": {
      "text/plain": [
       "UrlData({\n",
       "  format: TopoDataFormat({\n",
       "    feature: 'seoul_municipalities_geo',\n",
       "    type: 'topojson'\n",
       "  }),\n",
       "  url: 'https://raw.githubusercontent.com/southkorea/seoul-maps/master/juso/2015/json/seoul_municipalities_topo.json'\n",
       "})"
      ]
     },
     "execution_count": 4,
     "metadata": {},
     "output_type": "execute_result"
    }
   ],
   "source": [
    "# 자치구 경계선에 관한 지도 데이터\n",
    "seoul_url = 'https://raw.githubusercontent.com/southkorea/seoul-maps/master/juso/2015/json/seoul_municipalities_topo.json'\n",
    "seoul = alt.topo_feature(seoul_url, 'seoul_municipalities_geo')\n",
    "seoul"
   ]
  },
  {
   "cell_type": "markdown",
   "id": "4c53b299",
   "metadata": {},
   "source": [
    "## 3. 버블차트 시각화\n",
    "\n",
    "### 3.1 회귀선을 포함한 버블차트를 반환하는 함수 정의 \n",
    "\n",
    "- 함수 `bubble(year, color)`를 정의하라. \n",
    "- 매개변수 `year`에 정수 `2015`를 지정하면 2015년 차트를 반환한다. \n",
    "- 매개변수 `color`에 색상 이름을 지정하면, 해당 색상으로 버블과 회귀선이 그려진 차트를 반환한다. \n"
   ]
  },
  {
   "cell_type": "code",
   "execution_count": 5,
   "id": "1d56a352",
   "metadata": {},
   "outputs": [],
   "source": [
    "# 회귀선 버블차트 시각화 함수 정의\n",
    "\n",
    "def bubble(year, color):\n",
    "    bb = alt.Chart(df).mark_circle(color=color, opacity=0.5).transform_calculate(\n",
    "      CCTV_비율='datum.CCTV_규모_' + year + '/ datum.인구_규모_' + year\n",
    "    ).encode(\n",
    "        alt.X('인구_규모_' + year + ':Q',\n",
    "              scale=alt.Scale(zero=False),\n",
    "              title='인구 규모 (단위: 명)'),\n",
    "        alt.Y('CCTV_규모_' + year + ':Q',\n",
    "              scale=alt.Scale(domain=(0, 7000)),\n",
    "              title='CCTV 설치 규모(단위: 대)'),\n",
    "        alt.Size('CCTV_비율:Q', scale=alt.Scale(range=[1, 1000]), legend=None),\n",
    "        tooltip = [\n",
    "                   '자치구:N',\n",
    "                   alt.Tooltip('CCTV_비율:N', format='.1%', title='CCTV 비율'),\n",
    "                   alt.Tooltip('CCTV_규모_' + year + ':Q', title='CCTV 규모'),\n",
    "                   alt.Tooltip('인구_규모_' + year + ':Q', title='인구 규모')\n",
    "        ]\n",
    "    ).properties(\n",
    "        width=600,\n",
    "        height=500\n",
    "    )\n",
    "\n",
    "\n",
    "    reg = bb.transform_regression('인구_규모_' + year, 'CCTV_규모_' + year).mark_line(color=color, opacity=0.5)\n",
    "\n",
    "    return alt.layer(bb, reg)   # 버블 차트 위에 회귀선을 겹쳐서 표시         "
   ]
  },
  {
   "cell_type": "markdown",
   "id": "2aa430b5",
   "metadata": {},
   "source": [
    "### 3.2 2015년도 차트 시각화"
   ]
  },
  {
   "cell_type": "code",
   "execution_count": 6,
   "id": "b7f12bf0",
   "metadata": {},
   "outputs": [
    {
     "data": {
      "text/html": [
       "\n",
       "<div id=\"altair-viz-2165da9a1c9e44c1a9fb4562d51d5f57\"></div>\n",
       "<script type=\"text/javascript\">\n",
       "  var VEGA_DEBUG = (typeof VEGA_DEBUG == \"undefined\") ? {} : VEGA_DEBUG;\n",
       "  (function(spec, embedOpt){\n",
       "    let outputDiv = document.currentScript.previousElementSibling;\n",
       "    if (outputDiv.id !== \"altair-viz-2165da9a1c9e44c1a9fb4562d51d5f57\") {\n",
       "      outputDiv = document.getElementById(\"altair-viz-2165da9a1c9e44c1a9fb4562d51d5f57\");\n",
       "    }\n",
       "    const paths = {\n",
       "      \"vega\": \"https://cdn.jsdelivr.net/npm//vega@5?noext\",\n",
       "      \"vega-lib\": \"https://cdn.jsdelivr.net/npm//vega-lib?noext\",\n",
       "      \"vega-lite\": \"https://cdn.jsdelivr.net/npm//vega-lite@4.17.0?noext\",\n",
       "      \"vega-embed\": \"https://cdn.jsdelivr.net/npm//vega-embed@6?noext\",\n",
       "    };\n",
       "\n",
       "    function maybeLoadScript(lib, version) {\n",
       "      var key = `${lib.replace(\"-\", \"\")}_version`;\n",
       "      return (VEGA_DEBUG[key] == version) ?\n",
       "        Promise.resolve(paths[lib]) :\n",
       "        new Promise(function(resolve, reject) {\n",
       "          var s = document.createElement('script');\n",
       "          document.getElementsByTagName(\"head\")[0].appendChild(s);\n",
       "          s.async = true;\n",
       "          s.onload = () => {\n",
       "            VEGA_DEBUG[key] = version;\n",
       "            return resolve(paths[lib]);\n",
       "          };\n",
       "          s.onerror = () => reject(`Error loading script: ${paths[lib]}`);\n",
       "          s.src = paths[lib];\n",
       "        });\n",
       "    }\n",
       "\n",
       "    function showError(err) {\n",
       "      outputDiv.innerHTML = `<div class=\"error\" style=\"color:red;\">${err}</div>`;\n",
       "      throw err;\n",
       "    }\n",
       "\n",
       "    function displayChart(vegaEmbed) {\n",
       "      vegaEmbed(outputDiv, spec, embedOpt)\n",
       "        .catch(err => showError(`Javascript Error: ${err.message}<br>This usually means there's a typo in your chart specification. See the javascript console for the full traceback.`));\n",
       "    }\n",
       "\n",
       "    if(typeof define === \"function\" && define.amd) {\n",
       "      requirejs.config({paths});\n",
       "      require([\"vega-embed\"], displayChart, err => showError(`Error loading script: ${err.message}`));\n",
       "    } else {\n",
       "      maybeLoadScript(\"vega\", \"5\")\n",
       "        .then(() => maybeLoadScript(\"vega-lite\", \"4.17.0\"))\n",
       "        .then(() => maybeLoadScript(\"vega-embed\", \"6\"))\n",
       "        .catch(showError)\n",
       "        .then(() => displayChart(vegaEmbed));\n",
       "    }\n",
       "  })({\"config\": {\"view\": {\"continuousWidth\": 400, \"continuousHeight\": 300}}, \"layer\": [{\"mark\": {\"type\": \"circle\", \"color\": \"blue\", \"opacity\": 0.5}, \"encoding\": {\"size\": {\"field\": \"CCTV_\\ube44\\uc728\", \"legend\": null, \"scale\": {\"range\": [1, 1000]}, \"type\": \"quantitative\"}, \"tooltip\": [{\"field\": \"\\uc790\\uce58\\uad6c\", \"type\": \"nominal\"}, {\"field\": \"CCTV_\\ube44\\uc728\", \"format\": \".1%\", \"title\": \"CCTV \\ube44\\uc728\", \"type\": \"nominal\"}, {\"field\": \"CCTV_\\uaddc\\ubaa8_2015\", \"title\": \"CCTV \\uaddc\\ubaa8\", \"type\": \"quantitative\"}, {\"field\": \"\\uc778\\uad6c_\\uaddc\\ubaa8_2015\", \"title\": \"\\uc778\\uad6c \\uaddc\\ubaa8\", \"type\": \"quantitative\"}], \"x\": {\"field\": \"\\uc778\\uad6c_\\uaddc\\ubaa8_2015\", \"scale\": {\"zero\": false}, \"title\": \"\\uc778\\uad6c \\uaddc\\ubaa8 (\\ub2e8\\uc704: \\uba85)\", \"type\": \"quantitative\"}, \"y\": {\"field\": \"CCTV_\\uaddc\\ubaa8_2015\", \"scale\": {\"domain\": [0, 7000]}, \"title\": \"CCTV \\uc124\\uce58 \\uaddc\\ubaa8(\\ub2e8\\uc704: \\ub300)\", \"type\": \"quantitative\"}}, \"height\": 500, \"transform\": [{\"calculate\": \"datum.CCTV_\\uaddc\\ubaa8_2015/ datum.\\uc778\\uad6c_\\uaddc\\ubaa8_2015\", \"as\": \"CCTV_\\ube44\\uc728\"}], \"width\": 600}, {\"mark\": {\"type\": \"line\", \"color\": \"blue\", \"opacity\": 0.5}, \"encoding\": {\"size\": {\"field\": \"CCTV_\\ube44\\uc728\", \"legend\": null, \"scale\": {\"range\": [1, 1000]}, \"type\": \"quantitative\"}, \"tooltip\": [{\"field\": \"\\uc790\\uce58\\uad6c\", \"type\": \"nominal\"}, {\"field\": \"CCTV_\\ube44\\uc728\", \"format\": \".1%\", \"title\": \"CCTV \\ube44\\uc728\", \"type\": \"nominal\"}, {\"field\": \"CCTV_\\uaddc\\ubaa8_2015\", \"title\": \"CCTV \\uaddc\\ubaa8\", \"type\": \"quantitative\"}, {\"field\": \"\\uc778\\uad6c_\\uaddc\\ubaa8_2015\", \"title\": \"\\uc778\\uad6c \\uaddc\\ubaa8\", \"type\": \"quantitative\"}], \"x\": {\"field\": \"\\uc778\\uad6c_\\uaddc\\ubaa8_2015\", \"scale\": {\"zero\": false}, \"title\": \"\\uc778\\uad6c \\uaddc\\ubaa8 (\\ub2e8\\uc704: \\uba85)\", \"type\": \"quantitative\"}, \"y\": {\"field\": \"CCTV_\\uaddc\\ubaa8_2015\", \"scale\": {\"domain\": [0, 7000]}, \"title\": \"CCTV \\uc124\\uce58 \\uaddc\\ubaa8(\\ub2e8\\uc704: \\ub300)\", \"type\": \"quantitative\"}}, \"height\": 500, \"transform\": [{\"calculate\": \"datum.CCTV_\\uaddc\\ubaa8_2015/ datum.\\uc778\\uad6c_\\uaddc\\ubaa8_2015\", \"as\": \"CCTV_\\ube44\\uc728\"}, {\"on\": \"\\uc778\\uad6c_\\uaddc\\ubaa8_2015\", \"regression\": \"CCTV_\\uaddc\\ubaa8_2015\"}], \"width\": 600}], \"data\": {\"name\": \"data-45ff08f1c85640db9e6eb2564c10a79f\"}, \"$schema\": \"https://vega.github.io/schema/vega-lite/v4.17.0.json\", \"datasets\": {\"data-45ff08f1c85640db9e6eb2564c10a79f\": [{\"no\": 6, \"id\": 1, \"\\uc790\\uce58\\uad6c\": \"\\uc885\\ub85c\\uad6c\", \"CCTV_\\uaddc\\ubaa8_2015\": 1175, \"CCTV_\\uaddc\\ubaa8_2020\": 1729, \"\\uc778\\uad6c_\\uaddc\\ubaa8_2015\": 163822, \"\\uc778\\uad6c_\\uaddc\\ubaa8_2020\": 158996}, {\"no\": 11, \"id\": 2, \"\\uc790\\uce58\\uad6c\": \"\\uc911\\uad6c\", \"CCTV_\\uaddc\\ubaa8_2015\": 654, \"CCTV_\\uaddc\\ubaa8_2020\": 2001, \"\\uc778\\uad6c_\\uaddc\\ubaa8_2015\": 134329, \"\\uc778\\uad6c_\\uaddc\\ubaa8_2020\": 134635}, {\"no\": 24, \"id\": 3, \"\\uc790\\uce58\\uad6c\": \"\\uc6a9\\uc0b0\\uad6c\", \"CCTV_\\uaddc\\ubaa8_2015\": 685, \"CCTV_\\uaddc\\ubaa8_2020\": 2383, \"\\uc778\\uad6c_\\uaddc\\ubaa8_2015\": 247909, \"\\uc778\\uad6c_\\uaddc\\ubaa8_2020\": 244645}, {\"no\": 20, \"id\": 4, \"\\uc790\\uce58\\uad6c\": \"\\uc131\\ub3d9\\uad6c\", \"CCTV_\\uaddc\\ubaa8_2015\": 1289, \"CCTV_\\uaddc\\ubaa8_2020\": 3515, \"\\uc778\\uad6c_\\uaddc\\ubaa8_2015\": 305065, \"\\uc778\\uad6c_\\uaddc\\ubaa8_2020\": 300505}, {\"no\": 13, \"id\": 5, \"\\uc790\\uce58\\uad6c\": \"\\uad11\\uc9c4\\uad6c\", \"CCTV_\\uaddc\\ubaa8_2015\": 477, \"CCTV_\\uaddc\\ubaa8_2020\": 2556, \"\\uc778\\uad6c_\\uaddc\\ubaa8_2015\": 375180, \"\\uc778\\uad6c_\\uaddc\\ubaa8_2020\": 360109}, {\"no\": 2, \"id\": 6, \"\\uc790\\uce58\\uad6c\": \"\\ub3d9\\ub300\\ubb38\\uad6c\", \"CCTV_\\uaddc\\ubaa8_2015\": 1436, \"CCTV_\\uaddc\\ubaa8_2020\": 2315, \"\\uc778\\uad6c_\\uaddc\\ubaa8_2015\": 373824, \"\\uc778\\uad6c_\\uaddc\\ubaa8_2020\": 357014}, {\"no\": 8, \"id\": 7, \"\\uc790\\uce58\\uad6c\": \"\\uc911\\ub791\\uad6c\", \"CCTV_\\uaddc\\ubaa8_2015\": 821, \"CCTV_\\uaddc\\ubaa8_2020\": 3285, \"\\uc778\\uad6c_\\uaddc\\ubaa8_2015\": 418620, \"\\uc778\\uad6c_\\uaddc\\ubaa8_2020\": 399562}, {\"no\": 17, \"id\": 8, \"\\uc790\\uce58\\uad6c\": \"\\uc131\\ubd81\\uad6c\", \"CCTV_\\uaddc\\ubaa8_2015\": 897, \"CCTV_\\uaddc\\ubaa8_2020\": 3754, \"\\uc778\\uad6c_\\uaddc\\ubaa8_2015\": 469560, \"\\uc778\\uad6c_\\uaddc\\ubaa8_2020\": 447056}, {\"no\": 7, \"id\": 9, \"\\uc790\\uce58\\uad6c\": \"\\uac15\\ubd81\\uad6c\", \"CCTV_\\uaddc\\ubaa8_2015\": 270, \"CCTV_\\uaddc\\ubaa8_2020\": 2462, \"\\uc778\\uad6c_\\uaddc\\ubaa8_2015\": 334426, \"\\uc778\\uad6c_\\uaddc\\ubaa8_2020\": 311569}, {\"no\": 0, \"id\": 10, \"\\uc790\\uce58\\uad6c\": \"\\ub3c4\\ubd09\\uad6c\", \"CCTV_\\uaddc\\ubaa8_2015\": 434, \"CCTV_\\uaddc\\ubaa8_2020\": 1356, \"\\uc778\\uad6c_\\uaddc\\ubaa8_2015\": 353241, \"\\uc778\\uad6c_\\uaddc\\ubaa8_2020\": 327361}, {\"no\": 18, \"id\": 11, \"\\uc790\\uce58\\uad6c\": \"\\ub178\\uc6d0\\uad6c\", \"CCTV_\\uaddc\\ubaa8_2015\": 909, \"CCTV_\\uaddc\\ubaa8_2020\": 2282, \"\\uc778\\uad6c_\\uaddc\\ubaa8_2015\": 578221, \"\\uc778\\uad6c_\\uaddc\\ubaa8_2020\": 527032}, {\"no\": 1, \"id\": 12, \"\\uc790\\uce58\\uad6c\": \"\\uc740\\ud3c9\\uad6c\", \"CCTV_\\uaddc\\ubaa8_2015\": 722, \"CCTV_\\uaddc\\ubaa8_2020\": 3660, \"\\uc778\\uad6c_\\uaddc\\ubaa8_2015\": 502578, \"\\uc778\\uad6c_\\uaddc\\ubaa8_2020\": 484043}, {\"no\": 21, \"id\": 13, \"\\uc790\\uce58\\uad6c\": \"\\uc11c\\ub300\\ubb38\\uad6c\", \"CCTV_\\uaddc\\ubaa8_2015\": 1235, \"CCTV_\\uaddc\\ubaa8_2020\": 2939, \"\\uc778\\uad6c_\\uaddc\\ubaa8_2015\": 323105, \"\\uc778\\uad6c_\\uaddc\\ubaa8_2020\": 322952}, {\"no\": 14, \"id\": 14, \"\\uc790\\uce58\\uad6c\": \"\\ub9c8\\ud3ec\\uad6c\", \"CCTV_\\uaddc\\ubaa8_2015\": 729, \"CCTV_\\uaddc\\ubaa8_2020\": 2401, \"\\uc778\\uad6c_\\uaddc\\ubaa8_2015\": 398351, \"\\uc778\\uad6c_\\uaddc\\ubaa8_2020\": 381858}, {\"no\": 22, \"id\": 15, \"\\uc790\\uce58\\uad6c\": \"\\uc591\\ucc9c\\uad6c\", \"CCTV_\\uaddc\\ubaa8_2015\": 2241, \"CCTV_\\uaddc\\ubaa8_2020\": 3307, \"\\uc778\\uad6c_\\uaddc\\ubaa8_2015\": 489010, \"\\uc778\\uad6c_\\uaddc\\ubaa8_2020\": 457781}, {\"no\": 10, \"id\": 16, \"\\uc790\\uce58\\uad6c\": \"\\uac15\\uc11c\\uad6c\", \"CCTV_\\uaddc\\ubaa8_2015\": 691, \"CCTV_\\uaddc\\ubaa8_2020\": 2437, \"\\uc778\\uad6c_\\uaddc\\ubaa8_2015\": 595691, \"\\uc778\\uad6c_\\uaddc\\ubaa8_2020\": 585901}, {\"no\": 5, \"id\": 17, \"\\uc790\\uce58\\uad6c\": \"\\uad6c\\ub85c\\uad6c\", \"CCTV_\\uaddc\\ubaa8_2015\": 1872, \"CCTV_\\uaddc\\ubaa8_2020\": 4075, \"\\uc778\\uad6c_\\uaddc\\ubaa8_2015\": 454604, \"\\uc778\\uad6c_\\uaddc\\ubaa8_2020\": 432488}, {\"no\": 4, \"id\": 18, \"\\uc790\\uce58\\uad6c\": \"\\uae08\\ucc9c\\uad6c\", \"CCTV_\\uaddc\\ubaa8_2015\": 619, \"CCTV_\\uaddc\\ubaa8_2020\": 2365, \"\\uc778\\uad6c_\\uaddc\\ubaa8_2015\": 256167, \"\\uc778\\uad6c_\\uaddc\\ubaa8_2020\": 247835}, {\"no\": 23, \"id\": 19, \"\\uc790\\uce58\\uad6c\": \"\\uc601\\ub4f1\\ud3ec\\uad6c\", \"CCTV_\\uaddc\\ubaa8_2015\": 1278, \"CCTV_\\uaddc\\ubaa8_2020\": 3773, \"\\uc778\\uad6c_\\uaddc\\ubaa8_2015\": 417811, \"\\uc778\\uad6c_\\uaddc\\ubaa8_2020\": 407367}, {\"no\": 3, \"id\": 20, \"\\uc790\\uce58\\uad6c\": \"\\ub3d9\\uc791\\uad6c\", \"CCTV_\\uaddc\\ubaa8_2015\": 993, \"CCTV_\\uaddc\\ubaa8_2020\": 2262, \"\\uc778\\uad6c_\\uaddc\\ubaa8_2015\": 412774, \"\\uc778\\uad6c_\\uaddc\\ubaa8_2020\": 401572}, {\"no\": 15, \"id\": 21, \"\\uc790\\uce58\\uad6c\": \"\\uad00\\uc545\\uad6c\", \"CCTV_\\uaddc\\ubaa8_2015\": 2004, \"CCTV_\\uaddc\\ubaa8_2020\": 4909, \"\\uc778\\uad6c_\\uaddc\\ubaa8_2015\": 529031, \"\\uc778\\uad6c_\\uaddc\\ubaa8_2020\": 509803}, {\"no\": 16, \"id\": 22, \"\\uc790\\uce58\\uad6c\": \"\\uc11c\\ucd08\\uad6c\", \"CCTV_\\uaddc\\ubaa8_2015\": 916, \"CCTV_\\uaddc\\ubaa8_2020\": 3730, \"\\uc778\\uad6c_\\uaddc\\ubaa8_2015\": 451258, \"\\uc778\\uad6c_\\uaddc\\ubaa8_2020\": 429025}, {\"no\": 9, \"id\": 23, \"\\uc790\\uce58\\uad6c\": \"\\uac15\\ub0a8\\uad6c\", \"CCTV_\\uaddc\\ubaa8_2015\": 1863, \"CCTV_\\uaddc\\ubaa8_2020\": 6645, \"\\uc778\\uad6c_\\uaddc\\ubaa8_2015\": 581760, \"\\uc778\\uad6c_\\uaddc\\ubaa8_2020\": 544055}, {\"no\": 19, \"id\": 24, \"\\uc790\\uce58\\uad6c\": \"\\uc1a1\\ud30c\\uad6c\", \"CCTV_\\uaddc\\ubaa8_2015\": 520, \"CCTV_\\uaddc\\ubaa8_2020\": 2743, \"\\uc778\\uad6c_\\uaddc\\ubaa8_2015\": 667480, \"\\uc778\\uad6c_\\uaddc\\ubaa8_2020\": 673926}, {\"no\": 12, \"id\": 25, \"\\uc790\\uce58\\uad6c\": \"\\uac15\\ub3d9\\uad6c\", \"CCTV_\\uaddc\\ubaa8_2015\": 725, \"CCTV_\\uaddc\\ubaa8_2020\": 2547, \"\\uc778\\uad6c_\\uaddc\\ubaa8_2015\": 463321, \"\\uc778\\uad6c_\\uaddc\\ubaa8_2020\": 463998}]}}, {\"mode\": \"vega-lite\"});\n",
       "</script>"
      ],
      "text/plain": [
       "alt.LayerChart(...)"
      ]
     },
     "execution_count": 6,
     "metadata": {},
     "output_type": "execute_result"
    }
   ],
   "source": [
    "# 2015년도 차트를 파란색으로 시각화\n",
    "bb_reg_2015 = bubble('2015','blue')\n",
    "bb_reg_2015"
   ]
  },
  {
   "cell_type": "markdown",
   "id": "7ca99576",
   "metadata": {},
   "source": [
    "### 3.3 2020년도 차트 시각화"
   ]
  },
  {
   "cell_type": "code",
   "execution_count": 7,
   "id": "ee5ddeb9",
   "metadata": {},
   "outputs": [
    {
     "data": {
      "text/html": [
       "\n",
       "<div id=\"altair-viz-0345b4450ad44cd2a31d8b6750788ee4\"></div>\n",
       "<script type=\"text/javascript\">\n",
       "  var VEGA_DEBUG = (typeof VEGA_DEBUG == \"undefined\") ? {} : VEGA_DEBUG;\n",
       "  (function(spec, embedOpt){\n",
       "    let outputDiv = document.currentScript.previousElementSibling;\n",
       "    if (outputDiv.id !== \"altair-viz-0345b4450ad44cd2a31d8b6750788ee4\") {\n",
       "      outputDiv = document.getElementById(\"altair-viz-0345b4450ad44cd2a31d8b6750788ee4\");\n",
       "    }\n",
       "    const paths = {\n",
       "      \"vega\": \"https://cdn.jsdelivr.net/npm//vega@5?noext\",\n",
       "      \"vega-lib\": \"https://cdn.jsdelivr.net/npm//vega-lib?noext\",\n",
       "      \"vega-lite\": \"https://cdn.jsdelivr.net/npm//vega-lite@4.17.0?noext\",\n",
       "      \"vega-embed\": \"https://cdn.jsdelivr.net/npm//vega-embed@6?noext\",\n",
       "    };\n",
       "\n",
       "    function maybeLoadScript(lib, version) {\n",
       "      var key = `${lib.replace(\"-\", \"\")}_version`;\n",
       "      return (VEGA_DEBUG[key] == version) ?\n",
       "        Promise.resolve(paths[lib]) :\n",
       "        new Promise(function(resolve, reject) {\n",
       "          var s = document.createElement('script');\n",
       "          document.getElementsByTagName(\"head\")[0].appendChild(s);\n",
       "          s.async = true;\n",
       "          s.onload = () => {\n",
       "            VEGA_DEBUG[key] = version;\n",
       "            return resolve(paths[lib]);\n",
       "          };\n",
       "          s.onerror = () => reject(`Error loading script: ${paths[lib]}`);\n",
       "          s.src = paths[lib];\n",
       "        });\n",
       "    }\n",
       "\n",
       "    function showError(err) {\n",
       "      outputDiv.innerHTML = `<div class=\"error\" style=\"color:red;\">${err}</div>`;\n",
       "      throw err;\n",
       "    }\n",
       "\n",
       "    function displayChart(vegaEmbed) {\n",
       "      vegaEmbed(outputDiv, spec, embedOpt)\n",
       "        .catch(err => showError(`Javascript Error: ${err.message}<br>This usually means there's a typo in your chart specification. See the javascript console for the full traceback.`));\n",
       "    }\n",
       "\n",
       "    if(typeof define === \"function\" && define.amd) {\n",
       "      requirejs.config({paths});\n",
       "      require([\"vega-embed\"], displayChart, err => showError(`Error loading script: ${err.message}`));\n",
       "    } else {\n",
       "      maybeLoadScript(\"vega\", \"5\")\n",
       "        .then(() => maybeLoadScript(\"vega-lite\", \"4.17.0\"))\n",
       "        .then(() => maybeLoadScript(\"vega-embed\", \"6\"))\n",
       "        .catch(showError)\n",
       "        .then(() => displayChart(vegaEmbed));\n",
       "    }\n",
       "  })({\"config\": {\"view\": {\"continuousWidth\": 400, \"continuousHeight\": 300}}, \"layer\": [{\"mark\": {\"type\": \"circle\", \"color\": \"red\", \"opacity\": 0.5}, \"encoding\": {\"size\": {\"field\": \"CCTV_\\ube44\\uc728\", \"legend\": null, \"scale\": {\"range\": [1, 1000]}, \"type\": \"quantitative\"}, \"tooltip\": [{\"field\": \"\\uc790\\uce58\\uad6c\", \"type\": \"nominal\"}, {\"field\": \"CCTV_\\ube44\\uc728\", \"format\": \".1%\", \"title\": \"CCTV \\ube44\\uc728\", \"type\": \"nominal\"}, {\"field\": \"CCTV_\\uaddc\\ubaa8_2020\", \"title\": \"CCTV \\uaddc\\ubaa8\", \"type\": \"quantitative\"}, {\"field\": \"\\uc778\\uad6c_\\uaddc\\ubaa8_2020\", \"title\": \"\\uc778\\uad6c \\uaddc\\ubaa8\", \"type\": \"quantitative\"}], \"x\": {\"field\": \"\\uc778\\uad6c_\\uaddc\\ubaa8_2020\", \"scale\": {\"zero\": false}, \"title\": \"\\uc778\\uad6c \\uaddc\\ubaa8 (\\ub2e8\\uc704: \\uba85)\", \"type\": \"quantitative\"}, \"y\": {\"field\": \"CCTV_\\uaddc\\ubaa8_2020\", \"scale\": {\"domain\": [0, 7000]}, \"title\": \"CCTV \\uc124\\uce58 \\uaddc\\ubaa8(\\ub2e8\\uc704: \\ub300)\", \"type\": \"quantitative\"}}, \"height\": 500, \"transform\": [{\"calculate\": \"datum.CCTV_\\uaddc\\ubaa8_2020/ datum.\\uc778\\uad6c_\\uaddc\\ubaa8_2020\", \"as\": \"CCTV_\\ube44\\uc728\"}], \"width\": 600}, {\"mark\": {\"type\": \"line\", \"color\": \"red\", \"opacity\": 0.5}, \"encoding\": {\"size\": {\"field\": \"CCTV_\\ube44\\uc728\", \"legend\": null, \"scale\": {\"range\": [1, 1000]}, \"type\": \"quantitative\"}, \"tooltip\": [{\"field\": \"\\uc790\\uce58\\uad6c\", \"type\": \"nominal\"}, {\"field\": \"CCTV_\\ube44\\uc728\", \"format\": \".1%\", \"title\": \"CCTV \\ube44\\uc728\", \"type\": \"nominal\"}, {\"field\": \"CCTV_\\uaddc\\ubaa8_2020\", \"title\": \"CCTV \\uaddc\\ubaa8\", \"type\": \"quantitative\"}, {\"field\": \"\\uc778\\uad6c_\\uaddc\\ubaa8_2020\", \"title\": \"\\uc778\\uad6c \\uaddc\\ubaa8\", \"type\": \"quantitative\"}], \"x\": {\"field\": \"\\uc778\\uad6c_\\uaddc\\ubaa8_2020\", \"scale\": {\"zero\": false}, \"title\": \"\\uc778\\uad6c \\uaddc\\ubaa8 (\\ub2e8\\uc704: \\uba85)\", \"type\": \"quantitative\"}, \"y\": {\"field\": \"CCTV_\\uaddc\\ubaa8_2020\", \"scale\": {\"domain\": [0, 7000]}, \"title\": \"CCTV \\uc124\\uce58 \\uaddc\\ubaa8(\\ub2e8\\uc704: \\ub300)\", \"type\": \"quantitative\"}}, \"height\": 500, \"transform\": [{\"calculate\": \"datum.CCTV_\\uaddc\\ubaa8_2020/ datum.\\uc778\\uad6c_\\uaddc\\ubaa8_2020\", \"as\": \"CCTV_\\ube44\\uc728\"}, {\"on\": \"\\uc778\\uad6c_\\uaddc\\ubaa8_2020\", \"regression\": \"CCTV_\\uaddc\\ubaa8_2020\"}], \"width\": 600}], \"data\": {\"name\": \"data-45ff08f1c85640db9e6eb2564c10a79f\"}, \"$schema\": \"https://vega.github.io/schema/vega-lite/v4.17.0.json\", \"datasets\": {\"data-45ff08f1c85640db9e6eb2564c10a79f\": [{\"no\": 6, \"id\": 1, \"\\uc790\\uce58\\uad6c\": \"\\uc885\\ub85c\\uad6c\", \"CCTV_\\uaddc\\ubaa8_2015\": 1175, \"CCTV_\\uaddc\\ubaa8_2020\": 1729, \"\\uc778\\uad6c_\\uaddc\\ubaa8_2015\": 163822, \"\\uc778\\uad6c_\\uaddc\\ubaa8_2020\": 158996}, {\"no\": 11, \"id\": 2, \"\\uc790\\uce58\\uad6c\": \"\\uc911\\uad6c\", \"CCTV_\\uaddc\\ubaa8_2015\": 654, \"CCTV_\\uaddc\\ubaa8_2020\": 2001, \"\\uc778\\uad6c_\\uaddc\\ubaa8_2015\": 134329, \"\\uc778\\uad6c_\\uaddc\\ubaa8_2020\": 134635}, {\"no\": 24, \"id\": 3, \"\\uc790\\uce58\\uad6c\": \"\\uc6a9\\uc0b0\\uad6c\", \"CCTV_\\uaddc\\ubaa8_2015\": 685, \"CCTV_\\uaddc\\ubaa8_2020\": 2383, \"\\uc778\\uad6c_\\uaddc\\ubaa8_2015\": 247909, \"\\uc778\\uad6c_\\uaddc\\ubaa8_2020\": 244645}, {\"no\": 20, \"id\": 4, \"\\uc790\\uce58\\uad6c\": \"\\uc131\\ub3d9\\uad6c\", \"CCTV_\\uaddc\\ubaa8_2015\": 1289, \"CCTV_\\uaddc\\ubaa8_2020\": 3515, \"\\uc778\\uad6c_\\uaddc\\ubaa8_2015\": 305065, \"\\uc778\\uad6c_\\uaddc\\ubaa8_2020\": 300505}, {\"no\": 13, \"id\": 5, \"\\uc790\\uce58\\uad6c\": \"\\uad11\\uc9c4\\uad6c\", \"CCTV_\\uaddc\\ubaa8_2015\": 477, \"CCTV_\\uaddc\\ubaa8_2020\": 2556, \"\\uc778\\uad6c_\\uaddc\\ubaa8_2015\": 375180, \"\\uc778\\uad6c_\\uaddc\\ubaa8_2020\": 360109}, {\"no\": 2, \"id\": 6, \"\\uc790\\uce58\\uad6c\": \"\\ub3d9\\ub300\\ubb38\\uad6c\", \"CCTV_\\uaddc\\ubaa8_2015\": 1436, \"CCTV_\\uaddc\\ubaa8_2020\": 2315, \"\\uc778\\uad6c_\\uaddc\\ubaa8_2015\": 373824, \"\\uc778\\uad6c_\\uaddc\\ubaa8_2020\": 357014}, {\"no\": 8, \"id\": 7, \"\\uc790\\uce58\\uad6c\": \"\\uc911\\ub791\\uad6c\", \"CCTV_\\uaddc\\ubaa8_2015\": 821, \"CCTV_\\uaddc\\ubaa8_2020\": 3285, \"\\uc778\\uad6c_\\uaddc\\ubaa8_2015\": 418620, \"\\uc778\\uad6c_\\uaddc\\ubaa8_2020\": 399562}, {\"no\": 17, \"id\": 8, \"\\uc790\\uce58\\uad6c\": \"\\uc131\\ubd81\\uad6c\", \"CCTV_\\uaddc\\ubaa8_2015\": 897, \"CCTV_\\uaddc\\ubaa8_2020\": 3754, \"\\uc778\\uad6c_\\uaddc\\ubaa8_2015\": 469560, \"\\uc778\\uad6c_\\uaddc\\ubaa8_2020\": 447056}, {\"no\": 7, \"id\": 9, \"\\uc790\\uce58\\uad6c\": \"\\uac15\\ubd81\\uad6c\", \"CCTV_\\uaddc\\ubaa8_2015\": 270, \"CCTV_\\uaddc\\ubaa8_2020\": 2462, \"\\uc778\\uad6c_\\uaddc\\ubaa8_2015\": 334426, \"\\uc778\\uad6c_\\uaddc\\ubaa8_2020\": 311569}, {\"no\": 0, \"id\": 10, \"\\uc790\\uce58\\uad6c\": \"\\ub3c4\\ubd09\\uad6c\", \"CCTV_\\uaddc\\ubaa8_2015\": 434, \"CCTV_\\uaddc\\ubaa8_2020\": 1356, \"\\uc778\\uad6c_\\uaddc\\ubaa8_2015\": 353241, \"\\uc778\\uad6c_\\uaddc\\ubaa8_2020\": 327361}, {\"no\": 18, \"id\": 11, \"\\uc790\\uce58\\uad6c\": \"\\ub178\\uc6d0\\uad6c\", \"CCTV_\\uaddc\\ubaa8_2015\": 909, \"CCTV_\\uaddc\\ubaa8_2020\": 2282, \"\\uc778\\uad6c_\\uaddc\\ubaa8_2015\": 578221, \"\\uc778\\uad6c_\\uaddc\\ubaa8_2020\": 527032}, {\"no\": 1, \"id\": 12, \"\\uc790\\uce58\\uad6c\": \"\\uc740\\ud3c9\\uad6c\", \"CCTV_\\uaddc\\ubaa8_2015\": 722, \"CCTV_\\uaddc\\ubaa8_2020\": 3660, \"\\uc778\\uad6c_\\uaddc\\ubaa8_2015\": 502578, \"\\uc778\\uad6c_\\uaddc\\ubaa8_2020\": 484043}, {\"no\": 21, \"id\": 13, \"\\uc790\\uce58\\uad6c\": \"\\uc11c\\ub300\\ubb38\\uad6c\", \"CCTV_\\uaddc\\ubaa8_2015\": 1235, \"CCTV_\\uaddc\\ubaa8_2020\": 2939, \"\\uc778\\uad6c_\\uaddc\\ubaa8_2015\": 323105, \"\\uc778\\uad6c_\\uaddc\\ubaa8_2020\": 322952}, {\"no\": 14, \"id\": 14, \"\\uc790\\uce58\\uad6c\": \"\\ub9c8\\ud3ec\\uad6c\", \"CCTV_\\uaddc\\ubaa8_2015\": 729, \"CCTV_\\uaddc\\ubaa8_2020\": 2401, \"\\uc778\\uad6c_\\uaddc\\ubaa8_2015\": 398351, \"\\uc778\\uad6c_\\uaddc\\ubaa8_2020\": 381858}, {\"no\": 22, \"id\": 15, \"\\uc790\\uce58\\uad6c\": \"\\uc591\\ucc9c\\uad6c\", \"CCTV_\\uaddc\\ubaa8_2015\": 2241, \"CCTV_\\uaddc\\ubaa8_2020\": 3307, \"\\uc778\\uad6c_\\uaddc\\ubaa8_2015\": 489010, \"\\uc778\\uad6c_\\uaddc\\ubaa8_2020\": 457781}, {\"no\": 10, \"id\": 16, \"\\uc790\\uce58\\uad6c\": \"\\uac15\\uc11c\\uad6c\", \"CCTV_\\uaddc\\ubaa8_2015\": 691, \"CCTV_\\uaddc\\ubaa8_2020\": 2437, \"\\uc778\\uad6c_\\uaddc\\ubaa8_2015\": 595691, \"\\uc778\\uad6c_\\uaddc\\ubaa8_2020\": 585901}, {\"no\": 5, \"id\": 17, \"\\uc790\\uce58\\uad6c\": \"\\uad6c\\ub85c\\uad6c\", \"CCTV_\\uaddc\\ubaa8_2015\": 1872, \"CCTV_\\uaddc\\ubaa8_2020\": 4075, \"\\uc778\\uad6c_\\uaddc\\ubaa8_2015\": 454604, \"\\uc778\\uad6c_\\uaddc\\ubaa8_2020\": 432488}, {\"no\": 4, \"id\": 18, \"\\uc790\\uce58\\uad6c\": \"\\uae08\\ucc9c\\uad6c\", \"CCTV_\\uaddc\\ubaa8_2015\": 619, \"CCTV_\\uaddc\\ubaa8_2020\": 2365, \"\\uc778\\uad6c_\\uaddc\\ubaa8_2015\": 256167, \"\\uc778\\uad6c_\\uaddc\\ubaa8_2020\": 247835}, {\"no\": 23, \"id\": 19, \"\\uc790\\uce58\\uad6c\": \"\\uc601\\ub4f1\\ud3ec\\uad6c\", \"CCTV_\\uaddc\\ubaa8_2015\": 1278, \"CCTV_\\uaddc\\ubaa8_2020\": 3773, \"\\uc778\\uad6c_\\uaddc\\ubaa8_2015\": 417811, \"\\uc778\\uad6c_\\uaddc\\ubaa8_2020\": 407367}, {\"no\": 3, \"id\": 20, \"\\uc790\\uce58\\uad6c\": \"\\ub3d9\\uc791\\uad6c\", \"CCTV_\\uaddc\\ubaa8_2015\": 993, \"CCTV_\\uaddc\\ubaa8_2020\": 2262, \"\\uc778\\uad6c_\\uaddc\\ubaa8_2015\": 412774, \"\\uc778\\uad6c_\\uaddc\\ubaa8_2020\": 401572}, {\"no\": 15, \"id\": 21, \"\\uc790\\uce58\\uad6c\": \"\\uad00\\uc545\\uad6c\", \"CCTV_\\uaddc\\ubaa8_2015\": 2004, \"CCTV_\\uaddc\\ubaa8_2020\": 4909, \"\\uc778\\uad6c_\\uaddc\\ubaa8_2015\": 529031, \"\\uc778\\uad6c_\\uaddc\\ubaa8_2020\": 509803}, {\"no\": 16, \"id\": 22, \"\\uc790\\uce58\\uad6c\": \"\\uc11c\\ucd08\\uad6c\", \"CCTV_\\uaddc\\ubaa8_2015\": 916, \"CCTV_\\uaddc\\ubaa8_2020\": 3730, \"\\uc778\\uad6c_\\uaddc\\ubaa8_2015\": 451258, \"\\uc778\\uad6c_\\uaddc\\ubaa8_2020\": 429025}, {\"no\": 9, \"id\": 23, \"\\uc790\\uce58\\uad6c\": \"\\uac15\\ub0a8\\uad6c\", \"CCTV_\\uaddc\\ubaa8_2015\": 1863, \"CCTV_\\uaddc\\ubaa8_2020\": 6645, \"\\uc778\\uad6c_\\uaddc\\ubaa8_2015\": 581760, \"\\uc778\\uad6c_\\uaddc\\ubaa8_2020\": 544055}, {\"no\": 19, \"id\": 24, \"\\uc790\\uce58\\uad6c\": \"\\uc1a1\\ud30c\\uad6c\", \"CCTV_\\uaddc\\ubaa8_2015\": 520, \"CCTV_\\uaddc\\ubaa8_2020\": 2743, \"\\uc778\\uad6c_\\uaddc\\ubaa8_2015\": 667480, \"\\uc778\\uad6c_\\uaddc\\ubaa8_2020\": 673926}, {\"no\": 12, \"id\": 25, \"\\uc790\\uce58\\uad6c\": \"\\uac15\\ub3d9\\uad6c\", \"CCTV_\\uaddc\\ubaa8_2015\": 725, \"CCTV_\\uaddc\\ubaa8_2020\": 2547, \"\\uc778\\uad6c_\\uaddc\\ubaa8_2015\": 463321, \"\\uc778\\uad6c_\\uaddc\\ubaa8_2020\": 463998}]}}, {\"mode\": \"vega-lite\"});\n",
       "</script>"
      ],
      "text/plain": [
       "alt.LayerChart(...)"
      ]
     },
     "execution_count": 7,
     "metadata": {},
     "output_type": "execute_result"
    }
   ],
   "source": [
    "# 2020년도 차트를 빨간색으로 시각화\n",
    "bb_reg_2020 = bubble('2020', 'red')\n",
    "bb_reg_2020"
   ]
  },
  {
   "cell_type": "markdown",
   "id": "2f9d19ec",
   "metadata": {},
   "source": [
    "### 3.4 시각화 결과 통합"
   ]
  },
  {
   "cell_type": "code",
   "execution_count": 8,
   "id": "0177dd41",
   "metadata": {},
   "outputs": [
    {
     "data": {
      "text/html": [
       "\n",
       "<div id=\"altair-viz-d8caebc706e44124aa1ce92fbc17fbb6\"></div>\n",
       "<script type=\"text/javascript\">\n",
       "  var VEGA_DEBUG = (typeof VEGA_DEBUG == \"undefined\") ? {} : VEGA_DEBUG;\n",
       "  (function(spec, embedOpt){\n",
       "    let outputDiv = document.currentScript.previousElementSibling;\n",
       "    if (outputDiv.id !== \"altair-viz-d8caebc706e44124aa1ce92fbc17fbb6\") {\n",
       "      outputDiv = document.getElementById(\"altair-viz-d8caebc706e44124aa1ce92fbc17fbb6\");\n",
       "    }\n",
       "    const paths = {\n",
       "      \"vega\": \"https://cdn.jsdelivr.net/npm//vega@5?noext\",\n",
       "      \"vega-lib\": \"https://cdn.jsdelivr.net/npm//vega-lib?noext\",\n",
       "      \"vega-lite\": \"https://cdn.jsdelivr.net/npm//vega-lite@4.17.0?noext\",\n",
       "      \"vega-embed\": \"https://cdn.jsdelivr.net/npm//vega-embed@6?noext\",\n",
       "    };\n",
       "\n",
       "    function maybeLoadScript(lib, version) {\n",
       "      var key = `${lib.replace(\"-\", \"\")}_version`;\n",
       "      return (VEGA_DEBUG[key] == version) ?\n",
       "        Promise.resolve(paths[lib]) :\n",
       "        new Promise(function(resolve, reject) {\n",
       "          var s = document.createElement('script');\n",
       "          document.getElementsByTagName(\"head\")[0].appendChild(s);\n",
       "          s.async = true;\n",
       "          s.onload = () => {\n",
       "            VEGA_DEBUG[key] = version;\n",
       "            return resolve(paths[lib]);\n",
       "          };\n",
       "          s.onerror = () => reject(`Error loading script: ${paths[lib]}`);\n",
       "          s.src = paths[lib];\n",
       "        });\n",
       "    }\n",
       "\n",
       "    function showError(err) {\n",
       "      outputDiv.innerHTML = `<div class=\"error\" style=\"color:red;\">${err}</div>`;\n",
       "      throw err;\n",
       "    }\n",
       "\n",
       "    function displayChart(vegaEmbed) {\n",
       "      vegaEmbed(outputDiv, spec, embedOpt)\n",
       "        .catch(err => showError(`Javascript Error: ${err.message}<br>This usually means there's a typo in your chart specification. See the javascript console for the full traceback.`));\n",
       "    }\n",
       "\n",
       "    if(typeof define === \"function\" && define.amd) {\n",
       "      requirejs.config({paths});\n",
       "      require([\"vega-embed\"], displayChart, err => showError(`Error loading script: ${err.message}`));\n",
       "    } else {\n",
       "      maybeLoadScript(\"vega\", \"5\")\n",
       "        .then(() => maybeLoadScript(\"vega-lite\", \"4.17.0\"))\n",
       "        .then(() => maybeLoadScript(\"vega-embed\", \"6\"))\n",
       "        .catch(showError)\n",
       "        .then(() => displayChart(vegaEmbed));\n",
       "    }\n",
       "  })({\"config\": {\"view\": {\"continuousWidth\": 400, \"continuousHeight\": 300}}, \"layer\": [{\"layer\": [{\"mark\": {\"type\": \"circle\", \"color\": \"blue\", \"opacity\": 0.5}, \"encoding\": {\"size\": {\"field\": \"CCTV_\\ube44\\uc728\", \"legend\": null, \"scale\": {\"range\": [1, 1000]}, \"type\": \"quantitative\"}, \"tooltip\": [{\"field\": \"\\uc790\\uce58\\uad6c\", \"type\": \"nominal\"}, {\"field\": \"CCTV_\\ube44\\uc728\", \"format\": \".1%\", \"title\": \"CCTV \\ube44\\uc728\", \"type\": \"nominal\"}, {\"field\": \"CCTV_\\uaddc\\ubaa8_2015\", \"title\": \"CCTV \\uaddc\\ubaa8\", \"type\": \"quantitative\"}, {\"field\": \"\\uc778\\uad6c_\\uaddc\\ubaa8_2015\", \"title\": \"\\uc778\\uad6c \\uaddc\\ubaa8\", \"type\": \"quantitative\"}], \"x\": {\"field\": \"\\uc778\\uad6c_\\uaddc\\ubaa8_2015\", \"scale\": {\"zero\": false}, \"title\": \"\\uc778\\uad6c \\uaddc\\ubaa8 (\\ub2e8\\uc704: \\uba85)\", \"type\": \"quantitative\"}, \"y\": {\"field\": \"CCTV_\\uaddc\\ubaa8_2015\", \"scale\": {\"domain\": [0, 7000]}, \"title\": \"CCTV \\uc124\\uce58 \\uaddc\\ubaa8(\\ub2e8\\uc704: \\ub300)\", \"type\": \"quantitative\"}}, \"height\": 500, \"transform\": [{\"calculate\": \"datum.CCTV_\\uaddc\\ubaa8_2015/ datum.\\uc778\\uad6c_\\uaddc\\ubaa8_2015\", \"as\": \"CCTV_\\ube44\\uc728\"}], \"width\": 600}, {\"mark\": {\"type\": \"line\", \"color\": \"blue\", \"opacity\": 0.5}, \"encoding\": {\"size\": {\"field\": \"CCTV_\\ube44\\uc728\", \"legend\": null, \"scale\": {\"range\": [1, 1000]}, \"type\": \"quantitative\"}, \"tooltip\": [{\"field\": \"\\uc790\\uce58\\uad6c\", \"type\": \"nominal\"}, {\"field\": \"CCTV_\\ube44\\uc728\", \"format\": \".1%\", \"title\": \"CCTV \\ube44\\uc728\", \"type\": \"nominal\"}, {\"field\": \"CCTV_\\uaddc\\ubaa8_2015\", \"title\": \"CCTV \\uaddc\\ubaa8\", \"type\": \"quantitative\"}, {\"field\": \"\\uc778\\uad6c_\\uaddc\\ubaa8_2015\", \"title\": \"\\uc778\\uad6c \\uaddc\\ubaa8\", \"type\": \"quantitative\"}], \"x\": {\"field\": \"\\uc778\\uad6c_\\uaddc\\ubaa8_2015\", \"scale\": {\"zero\": false}, \"title\": \"\\uc778\\uad6c \\uaddc\\ubaa8 (\\ub2e8\\uc704: \\uba85)\", \"type\": \"quantitative\"}, \"y\": {\"field\": \"CCTV_\\uaddc\\ubaa8_2015\", \"scale\": {\"domain\": [0, 7000]}, \"title\": \"CCTV \\uc124\\uce58 \\uaddc\\ubaa8(\\ub2e8\\uc704: \\ub300)\", \"type\": \"quantitative\"}}, \"height\": 500, \"transform\": [{\"calculate\": \"datum.CCTV_\\uaddc\\ubaa8_2015/ datum.\\uc778\\uad6c_\\uaddc\\ubaa8_2015\", \"as\": \"CCTV_\\ube44\\uc728\"}, {\"on\": \"\\uc778\\uad6c_\\uaddc\\ubaa8_2015\", \"regression\": \"CCTV_\\uaddc\\ubaa8_2015\"}], \"width\": 600}]}, {\"layer\": [{\"mark\": {\"type\": \"circle\", \"color\": \"red\", \"opacity\": 0.5}, \"encoding\": {\"size\": {\"field\": \"CCTV_\\ube44\\uc728\", \"legend\": null, \"scale\": {\"range\": [1, 1000]}, \"type\": \"quantitative\"}, \"tooltip\": [{\"field\": \"\\uc790\\uce58\\uad6c\", \"type\": \"nominal\"}, {\"field\": \"CCTV_\\ube44\\uc728\", \"format\": \".1%\", \"title\": \"CCTV \\ube44\\uc728\", \"type\": \"nominal\"}, {\"field\": \"CCTV_\\uaddc\\ubaa8_2020\", \"title\": \"CCTV \\uaddc\\ubaa8\", \"type\": \"quantitative\"}, {\"field\": \"\\uc778\\uad6c_\\uaddc\\ubaa8_2020\", \"title\": \"\\uc778\\uad6c \\uaddc\\ubaa8\", \"type\": \"quantitative\"}], \"x\": {\"field\": \"\\uc778\\uad6c_\\uaddc\\ubaa8_2020\", \"scale\": {\"zero\": false}, \"title\": \"\\uc778\\uad6c \\uaddc\\ubaa8 (\\ub2e8\\uc704: \\uba85)\", \"type\": \"quantitative\"}, \"y\": {\"field\": \"CCTV_\\uaddc\\ubaa8_2020\", \"scale\": {\"domain\": [0, 7000]}, \"title\": \"CCTV \\uc124\\uce58 \\uaddc\\ubaa8(\\ub2e8\\uc704: \\ub300)\", \"type\": \"quantitative\"}}, \"height\": 500, \"transform\": [{\"calculate\": \"datum.CCTV_\\uaddc\\ubaa8_2020/ datum.\\uc778\\uad6c_\\uaddc\\ubaa8_2020\", \"as\": \"CCTV_\\ube44\\uc728\"}], \"width\": 600}, {\"mark\": {\"type\": \"line\", \"color\": \"red\", \"opacity\": 0.5}, \"encoding\": {\"size\": {\"field\": \"CCTV_\\ube44\\uc728\", \"legend\": null, \"scale\": {\"range\": [1, 1000]}, \"type\": \"quantitative\"}, \"tooltip\": [{\"field\": \"\\uc790\\uce58\\uad6c\", \"type\": \"nominal\"}, {\"field\": \"CCTV_\\ube44\\uc728\", \"format\": \".1%\", \"title\": \"CCTV \\ube44\\uc728\", \"type\": \"nominal\"}, {\"field\": \"CCTV_\\uaddc\\ubaa8_2020\", \"title\": \"CCTV \\uaddc\\ubaa8\", \"type\": \"quantitative\"}, {\"field\": \"\\uc778\\uad6c_\\uaddc\\ubaa8_2020\", \"title\": \"\\uc778\\uad6c \\uaddc\\ubaa8\", \"type\": \"quantitative\"}], \"x\": {\"field\": \"\\uc778\\uad6c_\\uaddc\\ubaa8_2020\", \"scale\": {\"zero\": false}, \"title\": \"\\uc778\\uad6c \\uaddc\\ubaa8 (\\ub2e8\\uc704: \\uba85)\", \"type\": \"quantitative\"}, \"y\": {\"field\": \"CCTV_\\uaddc\\ubaa8_2020\", \"scale\": {\"domain\": [0, 7000]}, \"title\": \"CCTV \\uc124\\uce58 \\uaddc\\ubaa8(\\ub2e8\\uc704: \\ub300)\", \"type\": \"quantitative\"}}, \"height\": 500, \"transform\": [{\"calculate\": \"datum.CCTV_\\uaddc\\ubaa8_2020/ datum.\\uc778\\uad6c_\\uaddc\\ubaa8_2020\", \"as\": \"CCTV_\\ube44\\uc728\"}, {\"on\": \"\\uc778\\uad6c_\\uaddc\\ubaa8_2020\", \"regression\": \"CCTV_\\uaddc\\ubaa8_2020\"}], \"width\": 600}]}], \"data\": {\"name\": \"data-45ff08f1c85640db9e6eb2564c10a79f\"}, \"$schema\": \"https://vega.github.io/schema/vega-lite/v4.17.0.json\", \"datasets\": {\"data-45ff08f1c85640db9e6eb2564c10a79f\": [{\"no\": 6, \"id\": 1, \"\\uc790\\uce58\\uad6c\": \"\\uc885\\ub85c\\uad6c\", \"CCTV_\\uaddc\\ubaa8_2015\": 1175, \"CCTV_\\uaddc\\ubaa8_2020\": 1729, \"\\uc778\\uad6c_\\uaddc\\ubaa8_2015\": 163822, \"\\uc778\\uad6c_\\uaddc\\ubaa8_2020\": 158996}, {\"no\": 11, \"id\": 2, \"\\uc790\\uce58\\uad6c\": \"\\uc911\\uad6c\", \"CCTV_\\uaddc\\ubaa8_2015\": 654, \"CCTV_\\uaddc\\ubaa8_2020\": 2001, \"\\uc778\\uad6c_\\uaddc\\ubaa8_2015\": 134329, \"\\uc778\\uad6c_\\uaddc\\ubaa8_2020\": 134635}, {\"no\": 24, \"id\": 3, \"\\uc790\\uce58\\uad6c\": \"\\uc6a9\\uc0b0\\uad6c\", \"CCTV_\\uaddc\\ubaa8_2015\": 685, \"CCTV_\\uaddc\\ubaa8_2020\": 2383, \"\\uc778\\uad6c_\\uaddc\\ubaa8_2015\": 247909, \"\\uc778\\uad6c_\\uaddc\\ubaa8_2020\": 244645}, {\"no\": 20, \"id\": 4, \"\\uc790\\uce58\\uad6c\": \"\\uc131\\ub3d9\\uad6c\", \"CCTV_\\uaddc\\ubaa8_2015\": 1289, \"CCTV_\\uaddc\\ubaa8_2020\": 3515, \"\\uc778\\uad6c_\\uaddc\\ubaa8_2015\": 305065, \"\\uc778\\uad6c_\\uaddc\\ubaa8_2020\": 300505}, {\"no\": 13, \"id\": 5, \"\\uc790\\uce58\\uad6c\": \"\\uad11\\uc9c4\\uad6c\", \"CCTV_\\uaddc\\ubaa8_2015\": 477, \"CCTV_\\uaddc\\ubaa8_2020\": 2556, \"\\uc778\\uad6c_\\uaddc\\ubaa8_2015\": 375180, \"\\uc778\\uad6c_\\uaddc\\ubaa8_2020\": 360109}, {\"no\": 2, \"id\": 6, \"\\uc790\\uce58\\uad6c\": \"\\ub3d9\\ub300\\ubb38\\uad6c\", \"CCTV_\\uaddc\\ubaa8_2015\": 1436, \"CCTV_\\uaddc\\ubaa8_2020\": 2315, \"\\uc778\\uad6c_\\uaddc\\ubaa8_2015\": 373824, \"\\uc778\\uad6c_\\uaddc\\ubaa8_2020\": 357014}, {\"no\": 8, \"id\": 7, \"\\uc790\\uce58\\uad6c\": \"\\uc911\\ub791\\uad6c\", \"CCTV_\\uaddc\\ubaa8_2015\": 821, \"CCTV_\\uaddc\\ubaa8_2020\": 3285, \"\\uc778\\uad6c_\\uaddc\\ubaa8_2015\": 418620, \"\\uc778\\uad6c_\\uaddc\\ubaa8_2020\": 399562}, {\"no\": 17, \"id\": 8, \"\\uc790\\uce58\\uad6c\": \"\\uc131\\ubd81\\uad6c\", \"CCTV_\\uaddc\\ubaa8_2015\": 897, \"CCTV_\\uaddc\\ubaa8_2020\": 3754, \"\\uc778\\uad6c_\\uaddc\\ubaa8_2015\": 469560, \"\\uc778\\uad6c_\\uaddc\\ubaa8_2020\": 447056}, {\"no\": 7, \"id\": 9, \"\\uc790\\uce58\\uad6c\": \"\\uac15\\ubd81\\uad6c\", \"CCTV_\\uaddc\\ubaa8_2015\": 270, \"CCTV_\\uaddc\\ubaa8_2020\": 2462, \"\\uc778\\uad6c_\\uaddc\\ubaa8_2015\": 334426, \"\\uc778\\uad6c_\\uaddc\\ubaa8_2020\": 311569}, {\"no\": 0, \"id\": 10, \"\\uc790\\uce58\\uad6c\": \"\\ub3c4\\ubd09\\uad6c\", \"CCTV_\\uaddc\\ubaa8_2015\": 434, \"CCTV_\\uaddc\\ubaa8_2020\": 1356, \"\\uc778\\uad6c_\\uaddc\\ubaa8_2015\": 353241, \"\\uc778\\uad6c_\\uaddc\\ubaa8_2020\": 327361}, {\"no\": 18, \"id\": 11, \"\\uc790\\uce58\\uad6c\": \"\\ub178\\uc6d0\\uad6c\", \"CCTV_\\uaddc\\ubaa8_2015\": 909, \"CCTV_\\uaddc\\ubaa8_2020\": 2282, \"\\uc778\\uad6c_\\uaddc\\ubaa8_2015\": 578221, \"\\uc778\\uad6c_\\uaddc\\ubaa8_2020\": 527032}, {\"no\": 1, \"id\": 12, \"\\uc790\\uce58\\uad6c\": \"\\uc740\\ud3c9\\uad6c\", \"CCTV_\\uaddc\\ubaa8_2015\": 722, \"CCTV_\\uaddc\\ubaa8_2020\": 3660, \"\\uc778\\uad6c_\\uaddc\\ubaa8_2015\": 502578, \"\\uc778\\uad6c_\\uaddc\\ubaa8_2020\": 484043}, {\"no\": 21, \"id\": 13, \"\\uc790\\uce58\\uad6c\": \"\\uc11c\\ub300\\ubb38\\uad6c\", \"CCTV_\\uaddc\\ubaa8_2015\": 1235, \"CCTV_\\uaddc\\ubaa8_2020\": 2939, \"\\uc778\\uad6c_\\uaddc\\ubaa8_2015\": 323105, \"\\uc778\\uad6c_\\uaddc\\ubaa8_2020\": 322952}, {\"no\": 14, \"id\": 14, \"\\uc790\\uce58\\uad6c\": \"\\ub9c8\\ud3ec\\uad6c\", \"CCTV_\\uaddc\\ubaa8_2015\": 729, \"CCTV_\\uaddc\\ubaa8_2020\": 2401, \"\\uc778\\uad6c_\\uaddc\\ubaa8_2015\": 398351, \"\\uc778\\uad6c_\\uaddc\\ubaa8_2020\": 381858}, {\"no\": 22, \"id\": 15, \"\\uc790\\uce58\\uad6c\": \"\\uc591\\ucc9c\\uad6c\", \"CCTV_\\uaddc\\ubaa8_2015\": 2241, \"CCTV_\\uaddc\\ubaa8_2020\": 3307, \"\\uc778\\uad6c_\\uaddc\\ubaa8_2015\": 489010, \"\\uc778\\uad6c_\\uaddc\\ubaa8_2020\": 457781}, {\"no\": 10, \"id\": 16, \"\\uc790\\uce58\\uad6c\": \"\\uac15\\uc11c\\uad6c\", \"CCTV_\\uaddc\\ubaa8_2015\": 691, \"CCTV_\\uaddc\\ubaa8_2020\": 2437, \"\\uc778\\uad6c_\\uaddc\\ubaa8_2015\": 595691, \"\\uc778\\uad6c_\\uaddc\\ubaa8_2020\": 585901}, {\"no\": 5, \"id\": 17, \"\\uc790\\uce58\\uad6c\": \"\\uad6c\\ub85c\\uad6c\", \"CCTV_\\uaddc\\ubaa8_2015\": 1872, \"CCTV_\\uaddc\\ubaa8_2020\": 4075, \"\\uc778\\uad6c_\\uaddc\\ubaa8_2015\": 454604, \"\\uc778\\uad6c_\\uaddc\\ubaa8_2020\": 432488}, {\"no\": 4, \"id\": 18, \"\\uc790\\uce58\\uad6c\": \"\\uae08\\ucc9c\\uad6c\", \"CCTV_\\uaddc\\ubaa8_2015\": 619, \"CCTV_\\uaddc\\ubaa8_2020\": 2365, \"\\uc778\\uad6c_\\uaddc\\ubaa8_2015\": 256167, \"\\uc778\\uad6c_\\uaddc\\ubaa8_2020\": 247835}, {\"no\": 23, \"id\": 19, \"\\uc790\\uce58\\uad6c\": \"\\uc601\\ub4f1\\ud3ec\\uad6c\", \"CCTV_\\uaddc\\ubaa8_2015\": 1278, \"CCTV_\\uaddc\\ubaa8_2020\": 3773, \"\\uc778\\uad6c_\\uaddc\\ubaa8_2015\": 417811, \"\\uc778\\uad6c_\\uaddc\\ubaa8_2020\": 407367}, {\"no\": 3, \"id\": 20, \"\\uc790\\uce58\\uad6c\": \"\\ub3d9\\uc791\\uad6c\", \"CCTV_\\uaddc\\ubaa8_2015\": 993, \"CCTV_\\uaddc\\ubaa8_2020\": 2262, \"\\uc778\\uad6c_\\uaddc\\ubaa8_2015\": 412774, \"\\uc778\\uad6c_\\uaddc\\ubaa8_2020\": 401572}, {\"no\": 15, \"id\": 21, \"\\uc790\\uce58\\uad6c\": \"\\uad00\\uc545\\uad6c\", \"CCTV_\\uaddc\\ubaa8_2015\": 2004, \"CCTV_\\uaddc\\ubaa8_2020\": 4909, \"\\uc778\\uad6c_\\uaddc\\ubaa8_2015\": 529031, \"\\uc778\\uad6c_\\uaddc\\ubaa8_2020\": 509803}, {\"no\": 16, \"id\": 22, \"\\uc790\\uce58\\uad6c\": \"\\uc11c\\ucd08\\uad6c\", \"CCTV_\\uaddc\\ubaa8_2015\": 916, \"CCTV_\\uaddc\\ubaa8_2020\": 3730, \"\\uc778\\uad6c_\\uaddc\\ubaa8_2015\": 451258, \"\\uc778\\uad6c_\\uaddc\\ubaa8_2020\": 429025}, {\"no\": 9, \"id\": 23, \"\\uc790\\uce58\\uad6c\": \"\\uac15\\ub0a8\\uad6c\", \"CCTV_\\uaddc\\ubaa8_2015\": 1863, \"CCTV_\\uaddc\\ubaa8_2020\": 6645, \"\\uc778\\uad6c_\\uaddc\\ubaa8_2015\": 581760, \"\\uc778\\uad6c_\\uaddc\\ubaa8_2020\": 544055}, {\"no\": 19, \"id\": 24, \"\\uc790\\uce58\\uad6c\": \"\\uc1a1\\ud30c\\uad6c\", \"CCTV_\\uaddc\\ubaa8_2015\": 520, \"CCTV_\\uaddc\\ubaa8_2020\": 2743, \"\\uc778\\uad6c_\\uaddc\\ubaa8_2015\": 667480, \"\\uc778\\uad6c_\\uaddc\\ubaa8_2020\": 673926}, {\"no\": 12, \"id\": 25, \"\\uc790\\uce58\\uad6c\": \"\\uac15\\ub3d9\\uad6c\", \"CCTV_\\uaddc\\ubaa8_2015\": 725, \"CCTV_\\uaddc\\ubaa8_2020\": 2547, \"\\uc778\\uad6c_\\uaddc\\ubaa8_2015\": 463321, \"\\uc778\\uad6c_\\uaddc\\ubaa8_2020\": 463998}]}}, {\"mode\": \"vega-lite\"});\n",
       "</script>"
      ],
      "text/plain": [
       "alt.LayerChart(...)"
      ]
     },
     "execution_count": 8,
     "metadata": {},
     "output_type": "execute_result"
    }
   ],
   "source": [
    "# 시각화 결과 통합\n",
    "\n",
    "layer = alt.layer(bb_reg_2015, bb_reg_2020)\n",
    "layer"
   ]
  },
  {
   "cell_type": "markdown",
   "id": "3c68b05f",
   "metadata": {},
   "source": [
    "## 4. 버블 차트 시각화 결론"
   ]
  },
  {
   "cell_type": "markdown",
   "id": "fb199a67",
   "metadata": {},
   "source": [
    "1. 회귀선보다 위에 있는 자치구는 상대적으로 CCTV가 많이 설치된 자치구이고, 반대로 아래에 있는 자치구는 상대적으로 CCTV가 적게 설치된 자치구입니다.\n",
    "\n",
    "2. 원 크기를 통해 2015년도 에서는 종로구, 2020년도 에서는 중구가 인구 대비 CCTV설치 규모가 가장 크다는 것을 알 수 있습니다. \n",
    " \n",
    "3. 동그라미 분포도를 보면 자치구마다 표준편차가 커지는 것을 확인할 수 있는데, 이는 2020년도 인구가 늘어날수록 평균적인 CCTV 개수가 늘어나고 있음을 알 수 있습니다. "
   ]
  }
 ],
 "metadata": {
  "kernelspec": {
   "display_name": "Python 3 (ipykernel)",
   "language": "python",
   "name": "python3"
  },
  "language_info": {
   "codemirror_mode": {
    "name": "ipython",
    "version": 3
   },
   "file_extension": ".py",
   "mimetype": "text/x-python",
   "name": "python",
   "nbconvert_exporter": "python",
   "pygments_lexer": "ipython3",
   "version": "3.7.6"
  }
 },
 "nbformat": 4,
 "nbformat_minor": 5
}
